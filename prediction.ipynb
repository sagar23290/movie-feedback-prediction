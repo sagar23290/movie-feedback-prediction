{
  "cells": [
    {
      "cell_type": "code",
      "execution_count": 1,
      "metadata": {
        "id": "piU3vnKEM4m0"
      },
      "outputs": [],
      "source": [
        "# Step 1: Import Libraries and Load the Model\n",
        "import numpy as np\n",
        "import tensorflow as tf\n",
        "from tensorflow.keras.datasets import imdb\n",
        "from tensorflow.keras.preprocessing import sequence\n",
        "from tensorflow.keras.models import load_model"
      ]
    },
    {
      "cell_type": "code",
      "execution_count": 2,
      "metadata": {
        "id": "Vbjj-yPNM4m5",
        "outputId": "cf5e1337-48d2-4b0f-d47c-79be9e27021b",
        "colab": {
          "base_uri": "https://localhost:8080/"
        }
      },
      "outputs": [
        {
          "output_type": "stream",
          "name": "stdout",
          "text": [
            "Downloading data from https://storage.googleapis.com/tensorflow/tf-keras-datasets/imdb_word_index.json\n",
            "\u001b[1m1641221/1641221\u001b[0m \u001b[32m━━━━━━━━━━━━━━━━━━━━\u001b[0m\u001b[37m\u001b[0m \u001b[1m0s\u001b[0m 0us/step\n"
          ]
        }
      ],
      "source": [
        "\n",
        "# Load the IMDB dataset word index\n",
        "word_index = imdb.get_word_index()\n",
        "reverse_word_index = {value: key for key, value in word_index.items()}"
      ]
    },
    {
      "cell_type": "code",
      "execution_count": 10,
      "metadata": {
        "id": "lpV_XywQM4m7",
        "outputId": "9c30a501-c0ce-4f5c-c931-933ad41b06b2",
        "colab": {
          "base_uri": "https://localhost:8080/",
          "height": 587
        }
      },
      "outputs": [
        {
          "output_type": "stream",
          "name": "stdout",
          "text": [
            "--2025-09-07 10:18:13--  https://github.com/sagar23290/movie-feedback-prediction/raw/main/simple_rnn_imdb.h5\n",
            "Resolving github.com (github.com)... 140.82.114.3\n",
            "Connecting to github.com (github.com)|140.82.114.3|:443... connected.\n",
            "HTTP request sent, awaiting response... 302 Found\n",
            "Location: https://raw.githubusercontent.com/sagar23290/movie-feedback-prediction/main/simple_rnn_imdb.h5 [following]\n",
            "--2025-09-07 10:18:13--  https://raw.githubusercontent.com/sagar23290/movie-feedback-prediction/main/simple_rnn_imdb.h5\n",
            "Resolving raw.githubusercontent.com (raw.githubusercontent.com)... 185.199.109.133, 185.199.111.133, 185.199.110.133, ...\n",
            "Connecting to raw.githubusercontent.com (raw.githubusercontent.com)|185.199.109.133|:443... connected.\n",
            "HTTP request sent, awaiting response... 200 OK\n",
            "Length: 15789768 (15M) [application/octet-stream]\n",
            "Saving to: ‘simple_rnn_imdb.h5’\n",
            "\n",
            "simple_rnn_imdb.h5  100%[===================>]  15.06M  --.-KB/s    in 0.04s   \n",
            "\n",
            "2025-09-07 10:18:13 (353 MB/s) - ‘simple_rnn_imdb.h5’ saved [15789768/15789768]\n",
            "\n",
            "simple_rnn_imdb.h5: Hierarchical Data Format (version 5) data\n"
          ]
        },
        {
          "output_type": "stream",
          "name": "stderr",
          "text": [
            "WARNING:absl:Compiled the loaded model, but the compiled metrics have yet to be built. `model.compile_metrics` will be empty until you train or evaluate the model.\n"
          ]
        },
        {
          "output_type": "display_data",
          "data": {
            "text/plain": [
              "\u001b[1mModel: \"sequential_1\"\u001b[0m\n"
            ],
            "text/html": [
              "<pre style=\"white-space:pre;overflow-x:auto;line-height:normal;font-family:Menlo,'DejaVu Sans Mono',consolas,'Courier New',monospace\"><span style=\"font-weight: bold\">Model: \"sequential_1\"</span>\n",
              "</pre>\n"
            ]
          },
          "metadata": {}
        },
        {
          "output_type": "display_data",
          "data": {
            "text/plain": [
              "┏━━━━━━━━━━━━━━━━━━━━━━━━━━━━━━━━━┳━━━━━━━━━━━━━━━━━━━━━━━━┳━━━━━━━━━━━━━━━┓\n",
              "┃\u001b[1m \u001b[0m\u001b[1mLayer (type)                   \u001b[0m\u001b[1m \u001b[0m┃\u001b[1m \u001b[0m\u001b[1mOutput Shape          \u001b[0m\u001b[1m \u001b[0m┃\u001b[1m \u001b[0m\u001b[1m      Param #\u001b[0m\u001b[1m \u001b[0m┃\n",
              "┡━━━━━━━━━━━━━━━━━━━━━━━━━━━━━━━━━╇━━━━━━━━━━━━━━━━━━━━━━━━╇━━━━━━━━━━━━━━━┩\n",
              "│ embedding_1 (\u001b[38;5;33mEmbedding\u001b[0m)         │ (\u001b[38;5;34m32\u001b[0m, \u001b[38;5;34m500\u001b[0m, \u001b[38;5;34m128\u001b[0m)         │     \u001b[38;5;34m1,280,000\u001b[0m │\n",
              "├─────────────────────────────────┼────────────────────────┼───────────────┤\n",
              "│ simple_rnn_1 (\u001b[38;5;33mSimpleRNN\u001b[0m)        │ (\u001b[38;5;34m32\u001b[0m, \u001b[38;5;34m128\u001b[0m)              │        \u001b[38;5;34m32,896\u001b[0m │\n",
              "├─────────────────────────────────┼────────────────────────┼───────────────┤\n",
              "│ dense_1 (\u001b[38;5;33mDense\u001b[0m)                 │ (\u001b[38;5;34m32\u001b[0m, \u001b[38;5;34m1\u001b[0m)                │           \u001b[38;5;34m129\u001b[0m │\n",
              "└─────────────────────────────────┴────────────────────────┴───────────────┘\n"
            ],
            "text/html": [
              "<pre style=\"white-space:pre;overflow-x:auto;line-height:normal;font-family:Menlo,'DejaVu Sans Mono',consolas,'Courier New',monospace\">┏━━━━━━━━━━━━━━━━━━━━━━━━━━━━━━━━━┳━━━━━━━━━━━━━━━━━━━━━━━━┳━━━━━━━━━━━━━━━┓\n",
              "┃<span style=\"font-weight: bold\"> Layer (type)                    </span>┃<span style=\"font-weight: bold\"> Output Shape           </span>┃<span style=\"font-weight: bold\">       Param # </span>┃\n",
              "┡━━━━━━━━━━━━━━━━━━━━━━━━━━━━━━━━━╇━━━━━━━━━━━━━━━━━━━━━━━━╇━━━━━━━━━━━━━━━┩\n",
              "│ embedding_1 (<span style=\"color: #0087ff; text-decoration-color: #0087ff\">Embedding</span>)         │ (<span style=\"color: #00af00; text-decoration-color: #00af00\">32</span>, <span style=\"color: #00af00; text-decoration-color: #00af00\">500</span>, <span style=\"color: #00af00; text-decoration-color: #00af00\">128</span>)         │     <span style=\"color: #00af00; text-decoration-color: #00af00\">1,280,000</span> │\n",
              "├─────────────────────────────────┼────────────────────────┼───────────────┤\n",
              "│ simple_rnn_1 (<span style=\"color: #0087ff; text-decoration-color: #0087ff\">SimpleRNN</span>)        │ (<span style=\"color: #00af00; text-decoration-color: #00af00\">32</span>, <span style=\"color: #00af00; text-decoration-color: #00af00\">128</span>)              │        <span style=\"color: #00af00; text-decoration-color: #00af00\">32,896</span> │\n",
              "├─────────────────────────────────┼────────────────────────┼───────────────┤\n",
              "│ dense_1 (<span style=\"color: #0087ff; text-decoration-color: #0087ff\">Dense</span>)                 │ (<span style=\"color: #00af00; text-decoration-color: #00af00\">32</span>, <span style=\"color: #00af00; text-decoration-color: #00af00\">1</span>)                │           <span style=\"color: #00af00; text-decoration-color: #00af00\">129</span> │\n",
              "└─────────────────────────────────┴────────────────────────┴───────────────┘\n",
              "</pre>\n"
            ]
          },
          "metadata": {}
        },
        {
          "output_type": "display_data",
          "data": {
            "text/plain": [
              "\u001b[1m Total params: \u001b[0m\u001b[38;5;34m1,313,027\u001b[0m (5.01 MB)\n"
            ],
            "text/html": [
              "<pre style=\"white-space:pre;overflow-x:auto;line-height:normal;font-family:Menlo,'DejaVu Sans Mono',consolas,'Courier New',monospace\"><span style=\"font-weight: bold\"> Total params: </span><span style=\"color: #00af00; text-decoration-color: #00af00\">1,313,027</span> (5.01 MB)\n",
              "</pre>\n"
            ]
          },
          "metadata": {}
        },
        {
          "output_type": "display_data",
          "data": {
            "text/plain": [
              "\u001b[1m Trainable params: \u001b[0m\u001b[38;5;34m1,313,025\u001b[0m (5.01 MB)\n"
            ],
            "text/html": [
              "<pre style=\"white-space:pre;overflow-x:auto;line-height:normal;font-family:Menlo,'DejaVu Sans Mono',consolas,'Courier New',monospace\"><span style=\"font-weight: bold\"> Trainable params: </span><span style=\"color: #00af00; text-decoration-color: #00af00\">1,313,025</span> (5.01 MB)\n",
              "</pre>\n"
            ]
          },
          "metadata": {}
        },
        {
          "output_type": "display_data",
          "data": {
            "text/plain": [
              "\u001b[1m Non-trainable params: \u001b[0m\u001b[38;5;34m0\u001b[0m (0.00 B)\n"
            ],
            "text/html": [
              "<pre style=\"white-space:pre;overflow-x:auto;line-height:normal;font-family:Menlo,'DejaVu Sans Mono',consolas,'Courier New',monospace\"><span style=\"font-weight: bold\"> Non-trainable params: </span><span style=\"color: #00af00; text-decoration-color: #00af00\">0</span> (0.00 B)\n",
              "</pre>\n"
            ]
          },
          "metadata": {}
        },
        {
          "output_type": "display_data",
          "data": {
            "text/plain": [
              "\u001b[1m Optimizer params: \u001b[0m\u001b[38;5;34m2\u001b[0m (12.00 B)\n"
            ],
            "text/html": [
              "<pre style=\"white-space:pre;overflow-x:auto;line-height:normal;font-family:Menlo,'DejaVu Sans Mono',consolas,'Courier New',monospace\"><span style=\"font-weight: bold\"> Optimizer params: </span><span style=\"color: #00af00; text-decoration-color: #00af00\">2</span> (12.00 B)\n",
              "</pre>\n"
            ]
          },
          "metadata": {}
        }
      ],
      "source": [
        "# Load the pre-trained model with ReLU activation\n",
        "!wget -O simple_rnn_imdb.h5 https://github.com/sagar23290/movie-feedback-prediction/raw/main/simple_rnn_imdb.h5\n",
        "\n",
        "!file simple_rnn_imdb.h5\n",
        "\n",
        "model = load_model('simple_rnn_imdb.h5')\n",
        "model.summary()"
      ]
    },
    {
      "cell_type": "code",
      "execution_count": 11,
      "metadata": {
        "id": "KtjnzemMM4m7",
        "outputId": "ae9d1a60-64c1-47f9-a85d-aa14b9120c07",
        "colab": {
          "base_uri": "https://localhost:8080/"
        }
      },
      "outputs": [
        {
          "output_type": "execute_result",
          "data": {
            "text/plain": [
              "[array([[-0.02769053,  0.03277271, -0.06599715, ...,  0.13227041,\n",
              "         -0.06802762,  0.27717572],\n",
              "        [-0.0183175 , -0.03929856, -0.0513998 , ...,  0.08728395,\n",
              "         -0.05763967,  0.08588929],\n",
              "        [-0.03416799,  0.05721278,  0.11401109, ..., -0.06026515,\n",
              "         -0.0706154 ,  0.16625367],\n",
              "        ...,\n",
              "        [-0.00580315,  0.00875724,  0.05107553, ..., -0.0884103 ,\n",
              "          0.02741227,  0.03582544],\n",
              "        [ 0.02371096,  0.09225364, -0.04221259, ...,  0.12222902,\n",
              "          0.11078851, -0.0177617 ],\n",
              "        [ 0.05885721,  0.08282673,  0.05589354, ..., -0.06926078,\n",
              "         -0.07805274, -0.09239962]], dtype=float32),\n",
              " array([[-0.06803304,  0.17374048,  0.04028793, ...,  0.10892257,\n",
              "         -0.06219434, -0.07435922],\n",
              "        [ 0.0408368 , -0.08915322,  0.1355498 , ...,  0.05930947,\n",
              "          0.1251237 , -0.00200811],\n",
              "        [ 0.22700463, -0.13923112,  0.09928951, ...,  0.04976626,\n",
              "         -0.088578  , -0.18483745],\n",
              "        ...,\n",
              "        [-0.18851969,  0.04358668, -0.00174722, ...,  0.08781658,\n",
              "         -0.05695535,  0.18771905],\n",
              "        [-0.01239209,  0.1613821 , -0.01479331, ..., -0.05269524,\n",
              "          0.0235319 , -0.07927049],\n",
              "        [-0.04694373, -0.0453339 ,  0.129104  , ..., -0.11732854,\n",
              "          0.03679077, -0.10900825]], dtype=float32),\n",
              " array([[ 0.19665612,  0.05933167, -0.05272943, ..., -0.15950151,\n",
              "         -0.06653324,  0.01741446],\n",
              "        [-0.02754462, -0.03028274, -0.02456475, ..., -0.01263718,\n",
              "         -0.02531324,  0.09114178],\n",
              "        [ 0.01507577, -0.0025294 , -0.0427752 , ...,  0.07131253,\n",
              "         -0.10863119,  0.08302604],\n",
              "        ...,\n",
              "        [-0.08328674, -0.07159006,  0.09974118, ..., -0.13739555,\n",
              "         -0.14745294,  0.02043084],\n",
              "        [ 0.1438915 , -0.02351685, -0.01698357, ...,  0.01505999,\n",
              "         -0.03779002,  0.07973649],\n",
              "        [-0.04318184,  0.0267146 , -0.11761903, ..., -0.18486825,\n",
              "         -0.06657204, -0.12792967]], dtype=float32),\n",
              " array([ 0.03547208, -0.04014057, -0.02266113, -0.00399378,  0.00804895,\n",
              "         0.0311016 , -0.02670316, -0.00704421, -0.00055889, -0.00822312,\n",
              "         0.00603167, -0.03479435,  0.02688054, -0.01056206, -0.00673157,\n",
              "        -0.03059554,  0.01981037, -0.04817766,  0.02955081, -0.01765826,\n",
              "        -0.04328828, -0.0208458 , -0.00901662, -0.00965208,  0.01101183,\n",
              "        -0.02245518,  0.01289694,  0.00029694, -0.00978414, -0.02328031,\n",
              "         0.02872057, -0.01625734,  0.0074358 ,  0.01471273, -0.0103266 ,\n",
              "        -0.02162612, -0.02429268,  0.00610043, -0.0216745 , -0.03736832,\n",
              "        -0.0188893 ,  0.03064839, -0.03755314, -0.03732376,  0.02390995,\n",
              "        -0.0317672 ,  0.00823092, -0.01013665,  0.01296497,  0.02946784,\n",
              "         0.00737784,  0.03816231,  0.01650365,  0.00684952, -0.02198243,\n",
              "         0.00994581, -0.01662398,  0.01169802,  0.02099688,  0.00870764,\n",
              "        -0.02590709, -0.03266701,  0.01138125, -0.00868633,  0.00447972,\n",
              "        -0.01300169, -0.02396906,  0.00899702, -0.01149477, -0.01983314,\n",
              "         0.01288624, -0.01216935,  0.03109248, -0.01982844, -0.03070537,\n",
              "         0.01513347, -0.03256633,  0.03101084, -0.02880244, -0.03009293,\n",
              "        -0.02684815, -0.00940695,  0.02605138,  0.0209602 , -0.03350189,\n",
              "         0.01493877,  0.02064758, -0.0211717 , -0.0213774 , -0.00561168,\n",
              "         0.02702628,  0.03986711,  0.02497472, -0.02223748, -0.01369461,\n",
              "         0.01425653,  0.02497821,  0.04531545, -0.00907233, -0.01932348,\n",
              "        -0.02603044, -0.03001291, -0.01888446, -0.02094398, -0.02461548,\n",
              "        -0.0029112 ,  0.01189398,  0.01428042, -0.01014209,  0.03881364,\n",
              "         0.0207651 , -0.01989587, -0.01617434,  0.01105981,  0.01917372,\n",
              "         0.01632605, -0.03011081, -0.00037535, -0.01035217, -0.01240137,\n",
              "         0.01932092, -0.0314962 ,  0.02091974, -0.05455071, -0.0284424 ,\n",
              "        -0.06281502, -0.01039165, -0.03534997], dtype=float32),\n",
              " array([[ 0.2245955 ],\n",
              "        [-0.18470037],\n",
              "        [-0.19013165],\n",
              "        [ 0.10554472],\n",
              "        [ 0.09426284],\n",
              "        [ 0.15717183],\n",
              "        [-0.00732975],\n",
              "        [-0.26669732],\n",
              "        [ 0.03423443],\n",
              "        [-0.15043233],\n",
              "        [-0.07940079],\n",
              "        [-0.10335199],\n",
              "        [-0.19504859],\n",
              "        [-0.4333291 ],\n",
              "        [-0.10764562],\n",
              "        [-0.00060563],\n",
              "        [-0.0751597 ],\n",
              "        [-0.13328229],\n",
              "        [ 0.17227542],\n",
              "        [ 0.04229154],\n",
              "        [-0.01902283],\n",
              "        [ 0.03612283],\n",
              "        [-0.3200166 ],\n",
              "        [ 0.17783798],\n",
              "        [-0.48591274],\n",
              "        [-0.12414233],\n",
              "        [ 0.19782187],\n",
              "        [ 0.04028879],\n",
              "        [-0.21301296],\n",
              "        [ 0.02502854],\n",
              "        [ 0.09675284],\n",
              "        [ 0.12672128],\n",
              "        [ 0.03467645],\n",
              "        [-0.36146098],\n",
              "        [-0.26420787],\n",
              "        [-0.2660524 ],\n",
              "        [-0.06720851],\n",
              "        [-0.25412658],\n",
              "        [-0.33223373],\n",
              "        [ 0.13231452],\n",
              "        [-0.2232006 ],\n",
              "        [ 0.08482464],\n",
              "        [ 0.03331031],\n",
              "        [ 0.20037138],\n",
              "        [ 0.10313568],\n",
              "        [-0.21061124],\n",
              "        [ 0.04889072],\n",
              "        [-0.11323844],\n",
              "        [-0.21373989],\n",
              "        [ 0.1528692 ],\n",
              "        [-0.2767407 ],\n",
              "        [-0.41866833],\n",
              "        [ 0.17501661],\n",
              "        [ 0.19940856],\n",
              "        [-0.16798429],\n",
              "        [ 0.26328295],\n",
              "        [ 0.00252785],\n",
              "        [-0.3295331 ],\n",
              "        [-0.11866159],\n",
              "        [ 0.19925283],\n",
              "        [-0.29846382],\n",
              "        [ 0.03117204],\n",
              "        [-0.47308448],\n",
              "        [ 0.02377116],\n",
              "        [ 0.0114285 ],\n",
              "        [-0.253837  ],\n",
              "        [ 0.17349543],\n",
              "        [-0.16432846],\n",
              "        [-0.16499668],\n",
              "        [-0.21400383],\n",
              "        [-0.17949209],\n",
              "        [-0.11240767],\n",
              "        [ 0.2210821 ],\n",
              "        [-0.3672139 ],\n",
              "        [ 0.12216969],\n",
              "        [ 0.1377743 ],\n",
              "        [ 0.01002757],\n",
              "        [ 0.12377188],\n",
              "        [-0.01968904],\n",
              "        [-0.19754949],\n",
              "        [-0.10373227],\n",
              "        [-0.25121847],\n",
              "        [ 0.02410838],\n",
              "        [-0.01184631],\n",
              "        [-0.00422286],\n",
              "        [-0.10073539],\n",
              "        [ 0.2197928 ],\n",
              "        [ 0.03683248],\n",
              "        [-0.13471125],\n",
              "        [ 0.24745904],\n",
              "        [-0.33337846],\n",
              "        [ 0.08099537],\n",
              "        [ 0.25729397],\n",
              "        [ 0.2552971 ],\n",
              "        [ 0.23794861],\n",
              "        [-0.24942613],\n",
              "        [ 0.20552918],\n",
              "        [ 0.02395698],\n",
              "        [-0.16586262],\n",
              "        [-0.20038407],\n",
              "        [-0.22207883],\n",
              "        [-0.0890888 ],\n",
              "        [-0.322101  ],\n",
              "        [-0.10172317],\n",
              "        [-0.06355803],\n",
              "        [-0.12474043],\n",
              "        [ 0.16622426],\n",
              "        [ 0.04983905],\n",
              "        [-0.14639314],\n",
              "        [ 0.18337153],\n",
              "        [ 0.21390033],\n",
              "        [ 0.1051897 ],\n",
              "        [ 0.05225758],\n",
              "        [-0.01863113],\n",
              "        [ 0.18132782],\n",
              "        [-0.25405237],\n",
              "        [ 0.02136116],\n",
              "        [-0.10489577],\n",
              "        [ 0.090498  ],\n",
              "        [-0.06805067],\n",
              "        [-0.3754553 ],\n",
              "        [-0.05905221],\n",
              "        [ 0.16022883],\n",
              "        [-0.09118624],\n",
              "        [-0.13277161],\n",
              "        [-0.0659902 ],\n",
              "        [ 0.35152552],\n",
              "        [ 0.00283203]], dtype=float32),\n",
              " array([-0.30699196], dtype=float32)]"
            ]
          },
          "metadata": {},
          "execution_count": 11
        }
      ],
      "source": [
        "model.get_weights()"
      ]
    },
    {
      "cell_type": "code",
      "execution_count": 12,
      "metadata": {
        "id": "Idg2scU8M4m8"
      },
      "outputs": [],
      "source": [
        "# Step 2: Helper Functions\n",
        "# Function to decode reviews\n",
        "def decode_review(encoded_review):\n",
        "    return ' '.join([reverse_word_index.get(i - 3, '?') for i in encoded_review])\n",
        "\n",
        "# Function to preprocess user input\n",
        "def preprocess_text(text):\n",
        "    words = text.lower().split()\n",
        "    encoded_review = [word_index.get(word, 2) + 3 for word in words]\n",
        "    padded_review = sequence.pad_sequences([encoded_review], maxlen=500)\n",
        "    return padded_review"
      ]
    },
    {
      "cell_type": "code",
      "execution_count": 13,
      "metadata": {
        "id": "eFQoau4_M4m8"
      },
      "outputs": [],
      "source": [
        "### Prediction  function\n",
        "\n",
        "def predict_sentiment(review):\n",
        "    preprocessed_input=preprocess_text(review)\n",
        "\n",
        "    prediction=model.predict(preprocessed_input)\n",
        "\n",
        "    sentiment = 'Positive' if prediction[0][0] > 0.5 else 'Negative'\n",
        "\n",
        "    return sentiment, prediction[0][0]\n",
        "\n"
      ]
    },
    {
      "cell_type": "code",
      "execution_count": 14,
      "metadata": {
        "id": "iWeySyeXM4m9",
        "outputId": "8ee7254b-08e9-43bd-ae4a-0d2a5864a187",
        "colab": {
          "base_uri": "https://localhost:8080/"
        }
      },
      "outputs": [
        {
          "output_type": "stream",
          "name": "stdout",
          "text": [
            "\u001b[1m1/1\u001b[0m \u001b[32m━━━━━━━━━━━━━━━━━━━━\u001b[0m\u001b[37m\u001b[0m \u001b[1m0s\u001b[0m 222ms/step\n",
            "Review: This movie was fantastic! The acting was great and the plot was thrilling.\n",
            "Sentiment: Positive\n",
            "Prediction Score: 0.7781890034675598\n"
          ]
        }
      ],
      "source": [
        "# Step 4: User Input and Prediction\n",
        "# Example review for prediction\n",
        "example_review = \"This movie was fantastic! The acting was great and the plot was thrilling.\"\n",
        "\n",
        "sentiment,score=predict_sentiment(example_review)\n",
        "\n",
        "print(f'Review: {example_review}')\n",
        "print(f'Sentiment: {sentiment}')\n",
        "print(f'Prediction Score: {score}')"
      ]
    },
    {
      "cell_type": "code",
      "execution_count": null,
      "metadata": {
        "id": "fzv_CA2TM4m9"
      },
      "outputs": [],
      "source": []
    },
    {
      "cell_type": "code",
      "execution_count": null,
      "metadata": {
        "id": "lEGuvsgkM4m9"
      },
      "outputs": [],
      "source": []
    },
    {
      "cell_type": "code",
      "execution_count": null,
      "metadata": {
        "id": "JoD78d87M4m-"
      },
      "outputs": [],
      "source": []
    },
    {
      "cell_type": "code",
      "execution_count": null,
      "metadata": {
        "id": "TkYk5TH2M4m-"
      },
      "outputs": [],
      "source": []
    }
  ],
  "metadata": {
    "kernelspec": {
      "display_name": "Python 3",
      "language": "python",
      "name": "python3"
    },
    "language_info": {
      "codemirror_mode": {
        "name": "ipython",
        "version": 3
      },
      "file_extension": ".py",
      "mimetype": "text/x-python",
      "name": "python",
      "nbconvert_exporter": "python",
      "pygments_lexer": "ipython3",
      "version": "3.11.0"
    },
    "colab": {
      "provenance": []
    }
  },
  "nbformat": 4,
  "nbformat_minor": 0
}